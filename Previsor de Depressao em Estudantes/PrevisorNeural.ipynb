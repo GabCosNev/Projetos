{
 "cells": [
  {
   "cell_type": "markdown",
   "id": "3d4ac263-cb70-43f1-8759-1a03ccc9d454",
   "metadata": {},
   "source": [
    "## Bibliotecas"
   ]
  },
  {
   "cell_type": "code",
   "execution_count": 2,
   "id": "c8f56e0e-d37f-4508-a17e-7f2d932c3ca2",
   "metadata": {},
   "outputs": [],
   "source": [
    "import numpy as np\n",
    "import matplotlib.pyplot as plt \n",
    "import pandas as pd\n",
    "import tensorflow as tf\n",
    "from sklearn.metrics import confusion_matrix, ConfusionMatrixDisplay, accuracy_score, classification_report\n",
    "from sklearn.preprocessing import LabelEncoder, OneHotEncoder, MinMaxScaler\n",
    "from imblearn.over_sampling import SMOTE\n",
    "from sklearn.model_selection import train_test_split\n",
    "from sklearn.compose import ColumnTransformer"
   ]
  },
  {
   "cell_type": "markdown",
   "id": "b4d1009d-dd32-4342-9bdb-0ee591fe4232",
   "metadata": {},
   "source": [
    "## Analisando DataSet"
   ]
  },
  {
   "cell_type": "code",
   "execution_count": 4,
   "id": "1c8d661b-dfbc-4092-a8ee-652792131c35",
   "metadata": {},
   "outputs": [
    {
     "data": {
      "text/plain": [
       "id                                       0\n",
       "Gender                                   0\n",
       "Age                                      0\n",
       "City                                     0\n",
       "Profession                               0\n",
       "Academic Pressure                        0\n",
       "Work Pressure                            0\n",
       "CGPA                                     0\n",
       "Study Satisfaction                       0\n",
       "Job Satisfaction                         0\n",
       "Sleep Duration                           0\n",
       "Dietary Habits                           0\n",
       "Degree                                   0\n",
       "Have you ever had suicidal thoughts ?    0\n",
       "Work/Study Hours                         0\n",
       "Financial Stress                         3\n",
       "Family History of Mental Illness         0\n",
       "Depression                               0\n",
       "dtype: int64"
      ]
     },
     "execution_count": 4,
     "metadata": {},
     "output_type": "execute_result"
    }
   ],
   "source": [
    "data = pd.read_csv('Student Depression Dataset.csv')\n",
    "data.isnull().sum()"
   ]
  },
  {
   "cell_type": "code",
   "execution_count": 5,
   "id": "948ee569-62de-4639-9270-77414b364f00",
   "metadata": {},
   "outputs": [
    {
     "data": {
      "text/html": [
       "<div>\n",
       "<style scoped>\n",
       "    .dataframe tbody tr th:only-of-type {\n",
       "        vertical-align: middle;\n",
       "    }\n",
       "\n",
       "    .dataframe tbody tr th {\n",
       "        vertical-align: top;\n",
       "    }\n",
       "\n",
       "    .dataframe thead th {\n",
       "        text-align: right;\n",
       "    }\n",
       "</style>\n",
       "<table border=\"1\" class=\"dataframe\">\n",
       "  <thead>\n",
       "    <tr style=\"text-align: right;\">\n",
       "      <th></th>\n",
       "      <th>id</th>\n",
       "      <th>Gender</th>\n",
       "      <th>Age</th>\n",
       "      <th>City</th>\n",
       "      <th>Profession</th>\n",
       "      <th>Academic Pressure</th>\n",
       "      <th>Work Pressure</th>\n",
       "      <th>CGPA</th>\n",
       "      <th>Study Satisfaction</th>\n",
       "      <th>Job Satisfaction</th>\n",
       "      <th>Sleep Duration</th>\n",
       "      <th>Dietary Habits</th>\n",
       "      <th>Degree</th>\n",
       "      <th>Have you ever had suicidal thoughts ?</th>\n",
       "      <th>Work/Study Hours</th>\n",
       "      <th>Financial Stress</th>\n",
       "      <th>Family History of Mental Illness</th>\n",
       "      <th>Depression</th>\n",
       "    </tr>\n",
       "  </thead>\n",
       "  <tbody>\n",
       "    <tr>\n",
       "      <th>4458</th>\n",
       "      <td>22377</td>\n",
       "      <td>Female</td>\n",
       "      <td>32.0</td>\n",
       "      <td>Varanasi</td>\n",
       "      <td>Student</td>\n",
       "      <td>3.0</td>\n",
       "      <td>0.0</td>\n",
       "      <td>5.64</td>\n",
       "      <td>1.0</td>\n",
       "      <td>0.0</td>\n",
       "      <td>5-6 hours</td>\n",
       "      <td>Healthy</td>\n",
       "      <td>BCA</td>\n",
       "      <td>No</td>\n",
       "      <td>12.0</td>\n",
       "      <td>NaN</td>\n",
       "      <td>No</td>\n",
       "      <td>1</td>\n",
       "    </tr>\n",
       "    <tr>\n",
       "      <th>13596</th>\n",
       "      <td>68910</td>\n",
       "      <td>Male</td>\n",
       "      <td>29.0</td>\n",
       "      <td>Hyderabad</td>\n",
       "      <td>Student</td>\n",
       "      <td>2.0</td>\n",
       "      <td>0.0</td>\n",
       "      <td>8.94</td>\n",
       "      <td>3.0</td>\n",
       "      <td>0.0</td>\n",
       "      <td>Less than 5 hours</td>\n",
       "      <td>Unhealthy</td>\n",
       "      <td>B.Ed</td>\n",
       "      <td>No</td>\n",
       "      <td>12.0</td>\n",
       "      <td>NaN</td>\n",
       "      <td>Yes</td>\n",
       "      <td>0</td>\n",
       "    </tr>\n",
       "    <tr>\n",
       "      <th>19266</th>\n",
       "      <td>97610</td>\n",
       "      <td>Female</td>\n",
       "      <td>20.0</td>\n",
       "      <td>Kolkata</td>\n",
       "      <td>Student</td>\n",
       "      <td>1.0</td>\n",
       "      <td>0.0</td>\n",
       "      <td>6.83</td>\n",
       "      <td>1.0</td>\n",
       "      <td>0.0</td>\n",
       "      <td>5-6 hours</td>\n",
       "      <td>Healthy</td>\n",
       "      <td>MBBS</td>\n",
       "      <td>No</td>\n",
       "      <td>9.0</td>\n",
       "      <td>NaN</td>\n",
       "      <td>Yes</td>\n",
       "      <td>0</td>\n",
       "    </tr>\n",
       "  </tbody>\n",
       "</table>\n",
       "</div>"
      ],
      "text/plain": [
       "          id  Gender   Age       City Profession  Academic Pressure  \\\n",
       "4458   22377  Female  32.0   Varanasi    Student                3.0   \n",
       "13596  68910    Male  29.0  Hyderabad    Student                2.0   \n",
       "19266  97610  Female  20.0    Kolkata    Student                1.0   \n",
       "\n",
       "       Work Pressure  CGPA  Study Satisfaction  Job Satisfaction  \\\n",
       "4458             0.0  5.64                 1.0               0.0   \n",
       "13596            0.0  8.94                 3.0               0.0   \n",
       "19266            0.0  6.83                 1.0               0.0   \n",
       "\n",
       "          Sleep Duration Dietary Habits Degree  \\\n",
       "4458           5-6 hours        Healthy    BCA   \n",
       "13596  Less than 5 hours      Unhealthy   B.Ed   \n",
       "19266          5-6 hours        Healthy   MBBS   \n",
       "\n",
       "      Have you ever had suicidal thoughts ?  Work/Study Hours  \\\n",
       "4458                                     No              12.0   \n",
       "13596                                    No              12.0   \n",
       "19266                                    No               9.0   \n",
       "\n",
       "       Financial Stress Family History of Mental Illness  Depression  \n",
       "4458                NaN                               No           1  \n",
       "13596               NaN                              Yes           0  \n",
       "19266               NaN                              Yes           0  "
      ]
     },
     "execution_count": 5,
     "metadata": {},
     "output_type": "execute_result"
    }
   ],
   "source": [
    "nulos = data[data.isnull().any(axis = 1)]\n",
    "nulos"
   ]
  },
  {
   "cell_type": "code",
   "execution_count": 6,
   "id": "8440a6ac-6b35-4a00-a8b6-db2420b6b8e0",
   "metadata": {},
   "outputs": [
    {
     "data": {
      "text/plain": [
       "id                                       0\n",
       "Gender                                   0\n",
       "Age                                      0\n",
       "City                                     0\n",
       "Profession                               0\n",
       "Academic Pressure                        0\n",
       "Work Pressure                            0\n",
       "CGPA                                     0\n",
       "Study Satisfaction                       0\n",
       "Job Satisfaction                         0\n",
       "Sleep Duration                           0\n",
       "Dietary Habits                           0\n",
       "Degree                                   0\n",
       "Have you ever had suicidal thoughts ?    0\n",
       "Work/Study Hours                         0\n",
       "Financial Stress                         0\n",
       "Family History of Mental Illness         0\n",
       "Depression                               0\n",
       "dtype: int64"
      ]
     },
     "execution_count": 6,
     "metadata": {},
     "output_type": "execute_result"
    }
   ],
   "source": [
    "data = data.dropna()\n",
    "data.isnull().sum()"
   ]
  },
  {
   "cell_type": "code",
   "execution_count": 7,
   "id": "1fa0d356-cb3c-4a56-b28a-55cc4cbbdb48",
   "metadata": {},
   "outputs": [
    {
     "data": {
      "text/plain": [
       "Sleep Duration\n",
       "Less than 5 hours    8309\n",
       "7-8 hours            7346\n",
       "5-6 hours            6181\n",
       "More than 8 hours    6044\n",
       "Others                 18\n",
       "Name: count, dtype: int64"
      ]
     },
     "execution_count": 7,
     "metadata": {},
     "output_type": "execute_result"
    }
   ],
   "source": [
    "data['Sleep Duration'].value_counts()"
   ]
  },
  {
   "cell_type": "code",
   "execution_count": 8,
   "id": "dda61811-b5ad-469e-a3e7-e81f5bfb0472",
   "metadata": {},
   "outputs": [
    {
     "data": {
      "text/plain": [
       "Degree\n",
       "Class 12    6080\n",
       "B.Ed        1866\n",
       "B.Com       1506\n",
       "B.Arch      1478\n",
       "BCA         1432\n",
       "MSc         1190\n",
       "B.Tech      1152\n",
       "MCA         1044\n",
       "M.Tech      1022\n",
       "BHM          925\n",
       "BSc          888\n",
       "M.Ed         821\n",
       "B.Pharm      810\n",
       "M.Com        734\n",
       "BBA          696\n",
       "MBBS         695\n",
       "LLB          671\n",
       "BE           613\n",
       "BA           600\n",
       "M.Pharm      582\n",
       "MD           572\n",
       "MBA          562\n",
       "MA           544\n",
       "PhD          522\n",
       "LLM          482\n",
       "MHM          191\n",
       "ME           185\n",
       "Others        35\n",
       "Name: count, dtype: int64"
      ]
     },
     "execution_count": 8,
     "metadata": {},
     "output_type": "execute_result"
    }
   ],
   "source": [
    "data['Degree'].value_counts()"
   ]
  },
  {
   "cell_type": "code",
   "execution_count": 9,
   "id": "a87c93a5-8635-448e-92f4-a47dff0597b8",
   "metadata": {},
   "outputs": [
    {
     "data": {
      "text/plain": [
       "array([['Male', 33.0, 5.0, ..., 'Yes', 3.0, 1.0],\n",
       "       ['Female', 24.0, 2.0, ..., 'No', 3.0, 2.0],\n",
       "       ['Male', 31.0, 3.0, ..., 'No', 9.0, 1.0],\n",
       "       ...,\n",
       "       ['Male', 31.0, 3.0, ..., 'No', 12.0, 2.0],\n",
       "       ['Female', 18.0, 5.0, ..., 'Yes', 10.0, 5.0],\n",
       "       ['Male', 27.0, 4.0, ..., 'Yes', 2.0, 3.0]], dtype=object)"
      ]
     },
     "execution_count": 9,
     "metadata": {},
     "output_type": "execute_result"
    }
   ],
   "source": [
    "X = data.iloc[:, [1,2,5,7,8,10,11,13,14,15]].values\n",
    "X"
   ]
  },
  {
   "cell_type": "code",
   "execution_count": 10,
   "id": "d6f7cac5-f31a-46b0-bc67-a8dc2e2d196d",
   "metadata": {},
   "outputs": [
    {
     "data": {
      "text/plain": [
       "array([1, 0, 0, ..., 0, 1, 1], dtype=int64)"
      ]
     },
     "execution_count": 10,
     "metadata": {},
     "output_type": "execute_result"
    }
   ],
   "source": [
    "y = data.iloc[:, -1].values\n",
    "y"
   ]
  },
  {
   "cell_type": "code",
   "execution_count": 11,
   "id": "f0321a31-735a-4d0e-a141-c9a472320ed2",
   "metadata": {},
   "outputs": [
    {
     "data": {
      "text/plain": [
       "Depression\n",
       "1    16335\n",
       "0    11563\n",
       "Name: count, dtype: int64"
      ]
     },
     "execution_count": 11,
     "metadata": {},
     "output_type": "execute_result"
    }
   ],
   "source": [
    "data['Depression'].value_counts()"
   ]
  },
  {
   "cell_type": "markdown",
   "id": "0a62722b-586a-480a-86e4-2d31f4284084",
   "metadata": {},
   "source": [
    "## Separação e Transformação"
   ]
  },
  {
   "cell_type": "code",
   "execution_count": 13,
   "id": "cf1ee671-3ea4-43f5-8046-753c097a6a60",
   "metadata": {},
   "outputs": [],
   "source": [
    "X_train, X_test, y_train, y_test = train_test_split(X, y, random_state=0, stratify = y)"
   ]
  },
  {
   "cell_type": "code",
   "execution_count": 14,
   "id": "63563588-4fc3-4191-a915-cfa20266894e",
   "metadata": {},
   "outputs": [
    {
     "data": {
      "text/html": [
       "<div>\n",
       "<style scoped>\n",
       "    .dataframe tbody tr th:only-of-type {\n",
       "        vertical-align: middle;\n",
       "    }\n",
       "\n",
       "    .dataframe tbody tr th {\n",
       "        vertical-align: top;\n",
       "    }\n",
       "\n",
       "    .dataframe thead th {\n",
       "        text-align: right;\n",
       "    }\n",
       "</style>\n",
       "<table border=\"1\" class=\"dataframe\">\n",
       "  <thead>\n",
       "    <tr style=\"text-align: right;\">\n",
       "      <th></th>\n",
       "      <th>0</th>\n",
       "      <th>1</th>\n",
       "      <th>2</th>\n",
       "      <th>3</th>\n",
       "      <th>4</th>\n",
       "      <th>5</th>\n",
       "      <th>6</th>\n",
       "      <th>7</th>\n",
       "      <th>8</th>\n",
       "      <th>9</th>\n",
       "    </tr>\n",
       "  </thead>\n",
       "  <tbody>\n",
       "    <tr>\n",
       "      <th>0</th>\n",
       "      <td>Male</td>\n",
       "      <td>24.0</td>\n",
       "      <td>5.0</td>\n",
       "      <td>6.21</td>\n",
       "      <td>5.0</td>\n",
       "      <td>7-8 hours</td>\n",
       "      <td>Healthy</td>\n",
       "      <td>No</td>\n",
       "      <td>5.0</td>\n",
       "      <td>4.0</td>\n",
       "    </tr>\n",
       "    <tr>\n",
       "      <th>1</th>\n",
       "      <td>Male</td>\n",
       "      <td>24.0</td>\n",
       "      <td>4.0</td>\n",
       "      <td>9.93</td>\n",
       "      <td>2.0</td>\n",
       "      <td>More than 8 hours</td>\n",
       "      <td>Unhealthy</td>\n",
       "      <td>Yes</td>\n",
       "      <td>11.0</td>\n",
       "      <td>3.0</td>\n",
       "    </tr>\n",
       "    <tr>\n",
       "      <th>2</th>\n",
       "      <td>Male</td>\n",
       "      <td>24.0</td>\n",
       "      <td>1.0</td>\n",
       "      <td>6.37</td>\n",
       "      <td>1.0</td>\n",
       "      <td>5-6 hours</td>\n",
       "      <td>Healthy</td>\n",
       "      <td>No</td>\n",
       "      <td>6.0</td>\n",
       "      <td>2.0</td>\n",
       "    </tr>\n",
       "    <tr>\n",
       "      <th>3</th>\n",
       "      <td>Male</td>\n",
       "      <td>34.0</td>\n",
       "      <td>1.0</td>\n",
       "      <td>7.04</td>\n",
       "      <td>5.0</td>\n",
       "      <td>Less than 5 hours</td>\n",
       "      <td>Unhealthy</td>\n",
       "      <td>No</td>\n",
       "      <td>0.0</td>\n",
       "      <td>3.0</td>\n",
       "    </tr>\n",
       "    <tr>\n",
       "      <th>4</th>\n",
       "      <td>Female</td>\n",
       "      <td>24.0</td>\n",
       "      <td>1.0</td>\n",
       "      <td>8.9</td>\n",
       "      <td>1.0</td>\n",
       "      <td>7-8 hours</td>\n",
       "      <td>Healthy</td>\n",
       "      <td>No</td>\n",
       "      <td>4.0</td>\n",
       "      <td>1.0</td>\n",
       "    </tr>\n",
       "  </tbody>\n",
       "</table>\n",
       "</div>"
      ],
      "text/plain": [
       "        0     1    2     3    4                  5          6    7     8    9\n",
       "0    Male  24.0  5.0  6.21  5.0          7-8 hours    Healthy   No   5.0  4.0\n",
       "1    Male  24.0  4.0  9.93  2.0  More than 8 hours  Unhealthy  Yes  11.0  3.0\n",
       "2    Male  24.0  1.0  6.37  1.0          5-6 hours    Healthy   No   6.0  2.0\n",
       "3    Male  34.0  1.0  7.04  5.0  Less than 5 hours  Unhealthy   No   0.0  3.0\n",
       "4  Female  24.0  1.0   8.9  1.0          7-8 hours    Healthy   No   4.0  1.0"
      ]
     },
     "execution_count": 14,
     "metadata": {},
     "output_type": "execute_result"
    }
   ],
   "source": [
    "pd.DataFrame(X_train).head()"
   ]
  },
  {
   "cell_type": "code",
   "execution_count": 15,
   "id": "18b1d3aa-d734-4882-b64d-1d592ffa1880",
   "metadata": {},
   "outputs": [],
   "source": [
    "lb = LabelEncoder()\n",
    "for col in [0, 7]:\n",
    "    X_train[:, col] = lb.fit_transform(X_train[:, col])\n",
    "    X_test[:, col] = lb.transform(X_test[:, col])"
   ]
  },
  {
   "cell_type": "code",
   "execution_count": 16,
   "id": "9eed058b-de22-4b8d-ae3c-519bdbe11225",
   "metadata": {},
   "outputs": [
    {
     "data": {
      "text/html": [
       "<div>\n",
       "<style scoped>\n",
       "    .dataframe tbody tr th:only-of-type {\n",
       "        vertical-align: middle;\n",
       "    }\n",
       "\n",
       "    .dataframe tbody tr th {\n",
       "        vertical-align: top;\n",
       "    }\n",
       "\n",
       "    .dataframe thead th {\n",
       "        text-align: right;\n",
       "    }\n",
       "</style>\n",
       "<table border=\"1\" class=\"dataframe\">\n",
       "  <thead>\n",
       "    <tr style=\"text-align: right;\">\n",
       "      <th></th>\n",
       "      <th>0</th>\n",
       "      <th>1</th>\n",
       "      <th>2</th>\n",
       "      <th>3</th>\n",
       "      <th>4</th>\n",
       "      <th>5</th>\n",
       "      <th>6</th>\n",
       "      <th>7</th>\n",
       "      <th>8</th>\n",
       "      <th>9</th>\n",
       "    </tr>\n",
       "  </thead>\n",
       "  <tbody>\n",
       "    <tr>\n",
       "      <th>0</th>\n",
       "      <td>1</td>\n",
       "      <td>24.0</td>\n",
       "      <td>5.0</td>\n",
       "      <td>6.21</td>\n",
       "      <td>5.0</td>\n",
       "      <td>7-8 hours</td>\n",
       "      <td>Healthy</td>\n",
       "      <td>0</td>\n",
       "      <td>5.0</td>\n",
       "      <td>4.0</td>\n",
       "    </tr>\n",
       "    <tr>\n",
       "      <th>1</th>\n",
       "      <td>1</td>\n",
       "      <td>24.0</td>\n",
       "      <td>4.0</td>\n",
       "      <td>9.93</td>\n",
       "      <td>2.0</td>\n",
       "      <td>More than 8 hours</td>\n",
       "      <td>Unhealthy</td>\n",
       "      <td>1</td>\n",
       "      <td>11.0</td>\n",
       "      <td>3.0</td>\n",
       "    </tr>\n",
       "    <tr>\n",
       "      <th>2</th>\n",
       "      <td>1</td>\n",
       "      <td>24.0</td>\n",
       "      <td>1.0</td>\n",
       "      <td>6.37</td>\n",
       "      <td>1.0</td>\n",
       "      <td>5-6 hours</td>\n",
       "      <td>Healthy</td>\n",
       "      <td>0</td>\n",
       "      <td>6.0</td>\n",
       "      <td>2.0</td>\n",
       "    </tr>\n",
       "    <tr>\n",
       "      <th>3</th>\n",
       "      <td>1</td>\n",
       "      <td>34.0</td>\n",
       "      <td>1.0</td>\n",
       "      <td>7.04</td>\n",
       "      <td>5.0</td>\n",
       "      <td>Less than 5 hours</td>\n",
       "      <td>Unhealthy</td>\n",
       "      <td>0</td>\n",
       "      <td>0.0</td>\n",
       "      <td>3.0</td>\n",
       "    </tr>\n",
       "    <tr>\n",
       "      <th>4</th>\n",
       "      <td>0</td>\n",
       "      <td>24.0</td>\n",
       "      <td>1.0</td>\n",
       "      <td>8.9</td>\n",
       "      <td>1.0</td>\n",
       "      <td>7-8 hours</td>\n",
       "      <td>Healthy</td>\n",
       "      <td>0</td>\n",
       "      <td>4.0</td>\n",
       "      <td>1.0</td>\n",
       "    </tr>\n",
       "  </tbody>\n",
       "</table>\n",
       "</div>"
      ],
      "text/plain": [
       "   0     1    2     3    4                  5          6  7     8    9\n",
       "0  1  24.0  5.0  6.21  5.0          7-8 hours    Healthy  0   5.0  4.0\n",
       "1  1  24.0  4.0  9.93  2.0  More than 8 hours  Unhealthy  1  11.0  3.0\n",
       "2  1  24.0  1.0  6.37  1.0          5-6 hours    Healthy  0   6.0  2.0\n",
       "3  1  34.0  1.0  7.04  5.0  Less than 5 hours  Unhealthy  0   0.0  3.0\n",
       "4  0  24.0  1.0   8.9  1.0          7-8 hours    Healthy  0   4.0  1.0"
      ]
     },
     "execution_count": 16,
     "metadata": {},
     "output_type": "execute_result"
    }
   ],
   "source": [
    "pd.DataFrame(X_train).head()"
   ]
  },
  {
   "cell_type": "code",
   "execution_count": 17,
   "id": "510936da-710d-433b-a931-8b5c892f22b9",
   "metadata": {},
   "outputs": [],
   "source": [
    "scaler = MinMaxScaler(feature_range=(0, 1))\n",
    "X_train[:, [1,2,3,4,8,9]] = scaler.fit_transform(X_train[:, [1,2,3,4,8,9]])\n",
    "X_test[:, [1,2,3,4,8,9]] = scaler.transform(X_test[:, [1,2,3,4,8,9]])"
   ]
  },
  {
   "cell_type": "code",
   "execution_count": 18,
   "id": "467a06ce-abed-4b44-b925-4c547c99bd9b",
   "metadata": {},
   "outputs": [
    {
     "data": {
      "text/html": [
       "<div>\n",
       "<style scoped>\n",
       "    .dataframe tbody tr th:only-of-type {\n",
       "        vertical-align: middle;\n",
       "    }\n",
       "\n",
       "    .dataframe tbody tr th {\n",
       "        vertical-align: top;\n",
       "    }\n",
       "\n",
       "    .dataframe thead th {\n",
       "        text-align: right;\n",
       "    }\n",
       "</style>\n",
       "<table border=\"1\" class=\"dataframe\">\n",
       "  <thead>\n",
       "    <tr style=\"text-align: right;\">\n",
       "      <th></th>\n",
       "      <th>0</th>\n",
       "      <th>1</th>\n",
       "      <th>2</th>\n",
       "      <th>3</th>\n",
       "      <th>4</th>\n",
       "      <th>5</th>\n",
       "      <th>6</th>\n",
       "      <th>7</th>\n",
       "      <th>8</th>\n",
       "      <th>9</th>\n",
       "    </tr>\n",
       "  </thead>\n",
       "  <tbody>\n",
       "    <tr>\n",
       "      <th>0</th>\n",
       "      <td>1</td>\n",
       "      <td>0.146341</td>\n",
       "      <td>1.0</td>\n",
       "      <td>0.621</td>\n",
       "      <td>1.0</td>\n",
       "      <td>7-8 hours</td>\n",
       "      <td>Healthy</td>\n",
       "      <td>0</td>\n",
       "      <td>0.416667</td>\n",
       "      <td>0.75</td>\n",
       "    </tr>\n",
       "    <tr>\n",
       "      <th>1</th>\n",
       "      <td>1</td>\n",
       "      <td>0.146341</td>\n",
       "      <td>0.8</td>\n",
       "      <td>0.993</td>\n",
       "      <td>0.4</td>\n",
       "      <td>More than 8 hours</td>\n",
       "      <td>Unhealthy</td>\n",
       "      <td>1</td>\n",
       "      <td>0.916667</td>\n",
       "      <td>0.5</td>\n",
       "    </tr>\n",
       "    <tr>\n",
       "      <th>2</th>\n",
       "      <td>1</td>\n",
       "      <td>0.146341</td>\n",
       "      <td>0.2</td>\n",
       "      <td>0.637</td>\n",
       "      <td>0.2</td>\n",
       "      <td>5-6 hours</td>\n",
       "      <td>Healthy</td>\n",
       "      <td>0</td>\n",
       "      <td>0.5</td>\n",
       "      <td>0.25</td>\n",
       "    </tr>\n",
       "    <tr>\n",
       "      <th>3</th>\n",
       "      <td>1</td>\n",
       "      <td>0.390244</td>\n",
       "      <td>0.2</td>\n",
       "      <td>0.704</td>\n",
       "      <td>1.0</td>\n",
       "      <td>Less than 5 hours</td>\n",
       "      <td>Unhealthy</td>\n",
       "      <td>0</td>\n",
       "      <td>0.0</td>\n",
       "      <td>0.5</td>\n",
       "    </tr>\n",
       "    <tr>\n",
       "      <th>4</th>\n",
       "      <td>0</td>\n",
       "      <td>0.146341</td>\n",
       "      <td>0.2</td>\n",
       "      <td>0.89</td>\n",
       "      <td>0.2</td>\n",
       "      <td>7-8 hours</td>\n",
       "      <td>Healthy</td>\n",
       "      <td>0</td>\n",
       "      <td>0.333333</td>\n",
       "      <td>0.0</td>\n",
       "    </tr>\n",
       "  </tbody>\n",
       "</table>\n",
       "</div>"
      ],
      "text/plain": [
       "   0         1    2      3    4                  5          6  7         8  \\\n",
       "0  1  0.146341  1.0  0.621  1.0          7-8 hours    Healthy  0  0.416667   \n",
       "1  1  0.146341  0.8  0.993  0.4  More than 8 hours  Unhealthy  1  0.916667   \n",
       "2  1  0.146341  0.2  0.637  0.2          5-6 hours    Healthy  0       0.5   \n",
       "3  1  0.390244  0.2  0.704  1.0  Less than 5 hours  Unhealthy  0       0.0   \n",
       "4  0  0.146341  0.2   0.89  0.2          7-8 hours    Healthy  0  0.333333   \n",
       "\n",
       "      9  \n",
       "0  0.75  \n",
       "1   0.5  \n",
       "2  0.25  \n",
       "3   0.5  \n",
       "4   0.0  "
      ]
     },
     "execution_count": 18,
     "metadata": {},
     "output_type": "execute_result"
    }
   ],
   "source": [
    "pd.DataFrame(X_train).head()"
   ]
  },
  {
   "cell_type": "code",
   "execution_count": 19,
   "id": "96ffb5cf-4e6f-4f22-90f3-d7df69df1985",
   "metadata": {},
   "outputs": [],
   "source": [
    "ct = ColumnTransformer(transformers=[('encoder', OneHotEncoder(), [5, 6])], remainder='passthrough')\n",
    "X_train = ct.fit_transform(X_train)\n",
    "X_test = ct.transform(X_test)"
   ]
  },
  {
   "cell_type": "code",
   "execution_count": 20,
   "id": "f7ec8e2e-c4c9-4e88-8121-e92ccd9306ee",
   "metadata": {},
   "outputs": [],
   "source": [
    "# st = SMOTE(sampling_strategy='minority', random_state=0)\n",
    "# X_train, y_train = st.fit_resample(X_train, y_train)"
   ]
  },
  {
   "cell_type": "markdown",
   "id": "71e45efb-2033-4f96-8d93-80229239685c",
   "metadata": {
    "jp-MarkdownHeadingCollapsed": true
   },
   "source": [
    "## Rede Neural Para Classificação"
   ]
  },
  {
   "cell_type": "code",
   "execution_count": 22,
   "id": "d2be51a1-9f98-4482-af37-a4236d6b8afe",
   "metadata": {},
   "outputs": [],
   "source": [
    "model = tf.keras.Sequential([\n",
    "    tf.keras.layers.Dense(units= 212 ,activation='relu'),\n",
    "    tf.keras.layers.Dropout(0.5),\n",
    "    tf.keras.layers.Dense(units=1, activation='sigmoid') \n",
    "])"
   ]
  },
  {
   "cell_type": "code",
   "execution_count": 23,
   "id": "88b3de1d-15fc-486a-bf4e-6861db0f8247",
   "metadata": {},
   "outputs": [],
   "source": [
    "model.compile( optimizer = 'adam', loss = 'binary_crossentropy', metrics = ['accuracy'])"
   ]
  },
  {
   "cell_type": "code",
   "execution_count": 24,
   "id": "a877f6e0-4fa8-43da-8ed9-62a5bd50239f",
   "metadata": {},
   "outputs": [],
   "source": [
    "X_test = np.array(X_test, dtype=float)\n",
    "X_train = np.array(X_train, dtype=float)"
   ]
  },
  {
   "cell_type": "code",
   "execution_count": 25,
   "id": "8e27ed32-c612-4c4f-af37-bfd42db7d7e8",
   "metadata": {},
   "outputs": [
    {
     "name": "stdout",
     "output_type": "stream",
     "text": [
      "Epoch 1/25\n",
      "\u001b[1m654/654\u001b[0m \u001b[32m━━━━━━━━━━━━━━━━━━━━\u001b[0m\u001b[37m\u001b[0m \u001b[1m2s\u001b[0m 1ms/step - accuracy: 0.7598 - loss: 0.4834 - val_accuracy: 0.8437 - val_loss: 0.3594\n",
      "Epoch 2/25\n",
      "\u001b[1m654/654\u001b[0m \u001b[32m━━━━━━━━━━━━━━━━━━━━\u001b[0m\u001b[37m\u001b[0m \u001b[1m1s\u001b[0m 986us/step - accuracy: 0.8458 - loss: 0.3587 - val_accuracy: 0.8462 - val_loss: 0.3551\n",
      "Epoch 3/25\n",
      "\u001b[1m654/654\u001b[0m \u001b[32m━━━━━━━━━━━━━━━━━━━━\u001b[0m\u001b[37m\u001b[0m \u001b[1m1s\u001b[0m 1ms/step - accuracy: 0.8398 - loss: 0.3615 - val_accuracy: 0.8442 - val_loss: 0.3570\n",
      "Epoch 4/25\n",
      "\u001b[1m654/654\u001b[0m \u001b[32m━━━━━━━━━━━━━━━━━━━━\u001b[0m\u001b[37m\u001b[0m \u001b[1m1s\u001b[0m 981us/step - accuracy: 0.8424 - loss: 0.3584 - val_accuracy: 0.8482 - val_loss: 0.3512\n",
      "Epoch 5/25\n",
      "\u001b[1m654/654\u001b[0m \u001b[32m━━━━━━━━━━━━━━━━━━━━\u001b[0m\u001b[37m\u001b[0m \u001b[1m1s\u001b[0m 1ms/step - accuracy: 0.8480 - loss: 0.3542 - val_accuracy: 0.8472 - val_loss: 0.3516\n",
      "Epoch 6/25\n",
      "\u001b[1m654/654\u001b[0m \u001b[32m━━━━━━━━━━━━━━━━━━━━\u001b[0m\u001b[37m\u001b[0m \u001b[1m1s\u001b[0m 981us/step - accuracy: 0.8498 - loss: 0.3524 - val_accuracy: 0.8469 - val_loss: 0.3516\n",
      "Epoch 7/25\n",
      "\u001b[1m654/654\u001b[0m \u001b[32m━━━━━━━━━━━━━━━━━━━━\u001b[0m\u001b[37m\u001b[0m \u001b[1m1s\u001b[0m 980us/step - accuracy: 0.8468 - loss: 0.3508 - val_accuracy: 0.8487 - val_loss: 0.3505\n",
      "Epoch 8/25\n",
      "\u001b[1m654/654\u001b[0m \u001b[32m━━━━━━━━━━━━━━━━━━━━\u001b[0m\u001b[37m\u001b[0m \u001b[1m1s\u001b[0m 996us/step - accuracy: 0.8448 - loss: 0.3606 - val_accuracy: 0.8485 - val_loss: 0.3511\n",
      "Epoch 9/25\n",
      "\u001b[1m654/654\u001b[0m \u001b[32m━━━━━━━━━━━━━━━━━━━━\u001b[0m\u001b[37m\u001b[0m \u001b[1m1s\u001b[0m 972us/step - accuracy: 0.8507 - loss: 0.3434 - val_accuracy: 0.8473 - val_loss: 0.3529\n",
      "Epoch 10/25\n",
      "\u001b[1m654/654\u001b[0m \u001b[32m━━━━━━━━━━━━━━━━━━━━\u001b[0m\u001b[37m\u001b[0m \u001b[1m1s\u001b[0m 962us/step - accuracy: 0.8469 - loss: 0.3536 - val_accuracy: 0.8459 - val_loss: 0.3528\n",
      "Epoch 11/25\n",
      "\u001b[1m654/654\u001b[0m \u001b[32m━━━━━━━━━━━━━━━━━━━━\u001b[0m\u001b[37m\u001b[0m \u001b[1m1s\u001b[0m 965us/step - accuracy: 0.8440 - loss: 0.3588 - val_accuracy: 0.8460 - val_loss: 0.3503\n",
      "Epoch 12/25\n",
      "\u001b[1m654/654\u001b[0m \u001b[32m━━━━━━━━━━━━━━━━━━━━\u001b[0m\u001b[37m\u001b[0m \u001b[1m1s\u001b[0m 991us/step - accuracy: 0.8444 - loss: 0.3546 - val_accuracy: 0.8477 - val_loss: 0.3518\n",
      "Epoch 13/25\n",
      "\u001b[1m654/654\u001b[0m \u001b[32m━━━━━━━━━━━━━━━━━━━━\u001b[0m\u001b[37m\u001b[0m \u001b[1m1s\u001b[0m 980us/step - accuracy: 0.8488 - loss: 0.3511 - val_accuracy: 0.8490 - val_loss: 0.3503\n",
      "Epoch 14/25\n",
      "\u001b[1m654/654\u001b[0m \u001b[32m━━━━━━━━━━━━━━━━━━━━\u001b[0m\u001b[37m\u001b[0m \u001b[1m1s\u001b[0m 965us/step - accuracy: 0.8476 - loss: 0.3529 - val_accuracy: 0.8480 - val_loss: 0.3515\n",
      "Epoch 15/25\n",
      "\u001b[1m654/654\u001b[0m \u001b[32m━━━━━━━━━━━━━━━━━━━━\u001b[0m\u001b[37m\u001b[0m \u001b[1m1s\u001b[0m 995us/step - accuracy: 0.8446 - loss: 0.3560 - val_accuracy: 0.8483 - val_loss: 0.3521\n",
      "Epoch 16/25\n",
      "\u001b[1m654/654\u001b[0m \u001b[32m━━━━━━━━━━━━━━━━━━━━\u001b[0m\u001b[37m\u001b[0m \u001b[1m1s\u001b[0m 963us/step - accuracy: 0.8424 - loss: 0.3618 - val_accuracy: 0.8472 - val_loss: 0.3512\n",
      "Epoch 17/25\n",
      "\u001b[1m654/654\u001b[0m \u001b[32m━━━━━━━━━━━━━━━━━━━━\u001b[0m\u001b[37m\u001b[0m \u001b[1m1s\u001b[0m 985us/step - accuracy: 0.8472 - loss: 0.3539 - val_accuracy: 0.8470 - val_loss: 0.3499\n",
      "Epoch 18/25\n",
      "\u001b[1m654/654\u001b[0m \u001b[32m━━━━━━━━━━━━━━━━━━━━\u001b[0m\u001b[37m\u001b[0m \u001b[1m1s\u001b[0m 984us/step - accuracy: 0.8484 - loss: 0.3551 - val_accuracy: 0.8476 - val_loss: 0.3521\n",
      "Epoch 19/25\n",
      "\u001b[1m654/654\u001b[0m \u001b[32m━━━━━━━━━━━━━━━━━━━━\u001b[0m\u001b[37m\u001b[0m \u001b[1m1s\u001b[0m 980us/step - accuracy: 0.8482 - loss: 0.3535 - val_accuracy: 0.8469 - val_loss: 0.3504\n",
      "Epoch 20/25\n",
      "\u001b[1m654/654\u001b[0m \u001b[32m━━━━━━━━━━━━━━━━━━━━\u001b[0m\u001b[37m\u001b[0m \u001b[1m1s\u001b[0m 949us/step - accuracy: 0.8490 - loss: 0.3500 - val_accuracy: 0.8483 - val_loss: 0.3524\n",
      "Epoch 21/25\n",
      "\u001b[1m654/654\u001b[0m \u001b[32m━━━━━━━━━━━━━━━━━━━━\u001b[0m\u001b[37m\u001b[0m \u001b[1m1s\u001b[0m 959us/step - accuracy: 0.8504 - loss: 0.3510 - val_accuracy: 0.8490 - val_loss: 0.3512\n",
      "Epoch 22/25\n",
      "\u001b[1m654/654\u001b[0m \u001b[32m━━━━━━━━━━━━━━━━━━━━\u001b[0m\u001b[37m\u001b[0m \u001b[1m1s\u001b[0m 995us/step - accuracy: 0.8464 - loss: 0.3558 - val_accuracy: 0.8479 - val_loss: 0.3512\n",
      "Epoch 23/25\n",
      "\u001b[1m654/654\u001b[0m \u001b[32m━━━━━━━━━━━━━━━━━━━━\u001b[0m\u001b[37m\u001b[0m \u001b[1m1s\u001b[0m 1ms/step - accuracy: 0.8468 - loss: 0.3490 - val_accuracy: 0.8477 - val_loss: 0.3499\n",
      "Epoch 24/25\n",
      "\u001b[1m654/654\u001b[0m \u001b[32m━━━━━━━━━━━━━━━━━━━━\u001b[0m\u001b[37m\u001b[0m \u001b[1m1s\u001b[0m 989us/step - accuracy: 0.8402 - loss: 0.3649 - val_accuracy: 0.8470 - val_loss: 0.3510\n",
      "Epoch 25/25\n",
      "\u001b[1m654/654\u001b[0m \u001b[32m━━━━━━━━━━━━━━━━━━━━\u001b[0m\u001b[37m\u001b[0m \u001b[1m1s\u001b[0m 978us/step - accuracy: 0.8474 - loss: 0.3558 - val_accuracy: 0.8493 - val_loss: 0.3500\n"
     ]
    }
   ],
   "source": [
    "r = model.fit(X_train, y_train, epochs=25, batch_size=32, validation_data=(X_test, y_test))"
   ]
  },
  {
   "cell_type": "code",
   "execution_count": 26,
   "id": "420db021-6725-4556-b766-9a767bd4c33c",
   "metadata": {},
   "outputs": [
    {
     "name": "stdout",
     "output_type": "stream",
     "text": [
      "\u001b[1m218/218\u001b[0m \u001b[32m━━━━━━━━━━━━━━━━━━━━\u001b[0m\u001b[37m\u001b[0m \u001b[1m0s\u001b[0m 478us/step\n"
     ]
    }
   ],
   "source": [
    "y_pred = model.predict(X_test)\n",
    "y_pred = (y_pred >= 0.5)\n",
    "cm = confusion_matrix(y_test, y_pred)\n",
    "ac = accuracy_score(y_test, y_pred)"
   ]
  },
  {
   "cell_type": "markdown",
   "id": "bf19ff0e-e8f9-4ef7-820b-a80c55f0d94d",
   "metadata": {
    "jp-MarkdownHeadingCollapsed": true
   },
   "source": [
    "## Resultados"
   ]
  },
  {
   "cell_type": "code",
   "execution_count": 28,
   "id": "f22111d6-b944-4b12-9070-2159c3ee6373",
   "metadata": {},
   "outputs": [
    {
     "data": {
      "image/png": "[encoded data removed]",
      "text/plain": [
       "<Figure size 600x600 with 1 Axes>"
      ]
     },
     "metadata": {},
     "output_type": "display_data"
    }
   ],
   "source": [
    "plt.figure(figsize=(6, 6))\n",
    "plt.plot(r.history['accuracy'], label='Treinamento')\n",
    "plt.plot(r.history['val_accuracy'], label='Validação')\n",
    "plt.title('Acurácia durante o Treinamento e Validação')\n",
    "plt.xlabel('Épocas')\n",
    "plt.ylabel('Acurácia')\n",
    "plt.legend()\n",
    "plt.show()"
   ]
  },
  {
   "cell_type": "code",
   "execution_count": 29,
   "id": "e5219d11-4016-4a26-a7ea-dcfa0a5eaf5e",
   "metadata": {},
   "outputs": [
    {
     "data": {
      "image/png": "[encoded data removed]",
      "text/plain": [
       "<Figure size 600x600 with 1 Axes>"
      ]
     },
     "metadata": {},
     "output_type": "display_data"
    }
   ],
   "source": [
    "plt.figure(figsize=(6, 6))\n",
    "plt.plot(r.history['loss'], label='Treinamento')\n",
    "plt.plot(r.history['val_loss'], label='Validação')\n",
    "plt.title('Perda durante o Treinamento e Validação')\n",
    "plt.xlabel('Épocas')\n",
    "plt.ylabel('Perda')\n",
    "plt.legend()\n",
    "plt.show()"
   ]
  },
  {
   "cell_type": "code",
   "execution_count": 30,
   "id": "fb3c86fa-9195-4641-bce5-8f4c360d1f9a",
   "metadata": {},
   "outputs": [
    {
     "data": {
      "image/png": "[encoded data removed]",
      "text/plain": [
       "<Figure size 640x480 with 2 Axes>"
      ]
     },
     "metadata": {},
     "output_type": "display_data"
    },
    {
     "name": "stdout",
     "output_type": "stream",
     "text": [
      "Acurácia: 84.93%\n"
     ]
    }
   ],
   "source": [
    "labels = ['Não (0)', 'Sim (1)']\n",
    "\n",
    "disp = ConfusionMatrixDisplay(confusion_matrix=cm, display_labels=labels)  # Substitui 0 e 1 pelos rótulos definidos\n",
    "\n",
    "fig, ax = plt.subplots()\n",
    "\n",
    "disp.plot(cmap=plt.cm.Greens, ax=ax)\n",
    "\n",
    "ax.xaxis.set_ticks_position('top')  \n",
    "ax.xaxis.set_label_position('top')  \n",
    "\n",
    "plt.xticks(rotation=0)  \n",
    "\n",
    "plt.title(\"(Estudante Depressão)\")  \n",
    "plt.xlabel(\"Rótulos Previsto\")  \n",
    "plt.ylabel(\"Rótulos Verdadeiros\")  \n",
    "\n",
    "plt.show()\n",
    "\n",
    "print(f\"Acurácia: {ac:.2%}\")"
   ]
  },
  {
   "cell_type": "code",
   "execution_count": 31,
   "id": "ab8e47de-d82e-4d96-a48e-4da3318a7e30",
   "metadata": {},
   "outputs": [
    {
     "name": "stdout",
     "output_type": "stream",
     "text": [
      "              precision    recall  f1-score   support\n",
      "\n",
      "           0       0.83      0.80      0.81      2891\n",
      "           1       0.86      0.89      0.87      4084\n",
      "\n",
      "    accuracy                           0.85      6975\n",
      "   macro avg       0.85      0.84      0.84      6975\n",
      "weighted avg       0.85      0.85      0.85      6975\n",
      "\n"
     ]
    }
   ],
   "source": [
    "print(classification_report(y_test, y_pred))"
   ]
  }
 ],
 "metadata": {
  "kernelspec": {
   "display_name": "Python 3 (ipykernel)",
   "language": "python",
   "name": "python3"
  },
  "language_info": {
   "codemirror_mode": {
    "name": "ipython",
    "version": 3
   },
   "file_extension": ".py",
   "mimetype": "text/x-python",
   "name": "python",
   "nbconvert_exporter": "python",
   "pygments_lexer": "ipython3",
   "version": "3.12.4"
  }
 },
 "nbformat": 4,
 "nbformat_minor": 5
}
