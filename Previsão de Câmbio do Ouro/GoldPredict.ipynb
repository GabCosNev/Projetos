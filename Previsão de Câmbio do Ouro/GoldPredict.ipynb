{
 "cells": [
  {
   "cell_type": "markdown",
   "id": "5cb0b4ac-1b06-421c-9791-f8a66f87367e",
   "metadata": {},
   "source": [
    "## Biblioteca"
   ]
  },
  {
   "cell_type": "code",
   "execution_count": 4,
   "id": "68bed19d-f46c-4ff0-a457-baa99b83b6cd",
   "metadata": {},
   "outputs": [],
   "source": [
    "import numpy as np\n",
    "import pandas as pd\n",
    "import yfinance as yf\n",
    "from modules import sequence\n",
    "from sklearn.preprocessing import MinMaxScaler\n",
    "from tensorflow.keras.models import Sequential\n",
    "from tensorflow.keras.layers import LSTM, Dense"
   ]
  },
  {
   "cell_type": "markdown",
   "id": "6cebe792-8778-4e4a-8915-1314256fb110",
   "metadata": {},
   "source": [
    "## Dataset"
   ]
  },
  {
   "cell_type": "code",
   "execution_count": 6,
   "id": "0ed3549c-43f6-4e81-9756-4e245ae7cce4",
   "metadata": {},
   "outputs": [],
   "source": [
    "# DONWLOAD TO DATASET \n",
    "\n",
    "# symbol = \"GC=F\"\n",
    "\n",
    "# start_date = \"2005-01-01\" \n",
    "# end_date = \"2025-02-25\"   \n",
    "\n",
    "# data = yf.download(symbol, start=start_date, end=end_date)\n",
    "\n",
    "# data.to_csv(\"gold_feb_25_GC=F.csv\")"
   ]
  },
  {
   "cell_type": "code",
   "execution_count": 7,
   "id": "c130b4e7-1225-4a00-b31e-4ecc4d9a5b60",
   "metadata": {},
   "outputs": [],
   "source": [
    "data = pd.read_csv(\"gold_feb_25_GC=F.csv\", skiprows=[1, 2])\n",
    "data = data.round(2)\n",
    "data = data.iloc[:, 1]\n",
    "data = data.to_numpy()"
   ]
  },
  {
   "cell_type": "code",
   "execution_count": 8,
   "id": "817a0077-183b-471d-ba04-fecce8cbede9",
   "metadata": {},
   "outputs": [
    {
     "data": {
      "text/plain": [
       "(5032,)"
      ]
     },
     "execution_count": 8,
     "metadata": {},
     "output_type": "execute_result"
    }
   ],
   "source": [
    "data.shape"
   ]
  },
  {
   "cell_type": "markdown",
   "id": "59ff8457-40a2-493d-8b62-1818a0dfe017",
   "metadata": {},
   "source": [
    "## Building RNN LSTM"
   ]
  },
  {
   "cell_type": "code",
   "execution_count": 10,
   "id": "3e7a93bd-f055-4f5b-8e44-b0cbd3bc1f8b",
   "metadata": {},
   "outputs": [],
   "source": [
    "X, y = sequence.create_sequences(data, 10)"
   ]
  },
  {
   "cell_type": "code",
   "execution_count": 11,
   "id": "e4fa2b8c-0df0-4465-8b2b-3be542eefc8b",
   "metadata": {},
   "outputs": [
    {
     "data": {
      "text/plain": [
       "(5022, 10)"
      ]
     },
     "execution_count": 11,
     "metadata": {},
     "output_type": "execute_result"
    }
   ],
   "source": [
    "X.shape"
   ]
  },
  {
   "cell_type": "code",
   "execution_count": 12,
   "id": "296ee57b-15d4-4727-a482-1ab034cd4666",
   "metadata": {},
   "outputs": [
    {
     "data": {
      "text/plain": [
       "(5022, 1)"
      ]
     },
     "execution_count": 12,
     "metadata": {},
     "output_type": "execute_result"
    }
   ],
   "source": [
    "y.shape"
   ]
  },
  {
   "cell_type": "code",
   "execution_count": 13,
   "id": "85dc1631-d07a-4573-9ba2-73cae007666b",
   "metadata": {},
   "outputs": [],
   "source": [
    "train_size = int(len(X) * 0.8)\n",
    "X_train, X_test = X[:train_size], X[train_size:]\n",
    "y_train, y_test = y[:train_size], y[train_size:]"
   ]
  },
  {
   "cell_type": "code",
   "execution_count": 14,
   "id": "4aa08a0d-7f00-4fb7-9059-1bd898ed8de0",
   "metadata": {},
   "outputs": [],
   "source": [
    "scaler = MinMaxScaler(feature_range=(0, 1))\n",
    "X_train_scaled = scaler.fit_transform(X_train)\n",
    "y_train_scaled = scaler.fit_transform(y_train)\n",
    "X_test_scaled = scaler.transform(X_test)\n",
    "y_test_scaled = scaler.transform(y_test)"
   ]
  },
  {
   "cell_type": "code",
   "execution_count": 15,
   "id": "d8b770a0-8d47-4879-9912-a05621403c46",
   "metadata": {},
   "outputs": [
    {
     "data": {
      "text/plain": [
       "array([[0.00982366, 0.00970163, 0.00854231, ..., 0.00823723, 0.00726097,\n",
       "        0.00616267],\n",
       "       [0.00970163, 0.00854231, 0.00512539, ..., 0.00726097, 0.00616267,\n",
       "        0.00646775],\n",
       "       [0.00854231, 0.00512539, 0.00384404, ..., 0.00616267, 0.00646775,\n",
       "        0.00634572],\n",
       "       ...,\n",
       "       [0.88718043, 0.89212277, 0.89529563, ..., 0.93483434, 0.93971566,\n",
       "        0.91177009],\n",
       "       [0.89212277, 0.89529563, 0.89364818, ..., 0.93971566, 0.91177009,\n",
       "        0.91506498],\n",
       "       [0.89529563, 0.89364818, 0.89517359, ..., 0.91177009, 0.91506498,\n",
       "        0.86735005]])"
      ]
     },
     "execution_count": 15,
     "metadata": {},
     "output_type": "execute_result"
    }
   ],
   "source": [
    "X_train_scaled"
   ]
  },
  {
   "cell_type": "code",
   "execution_count": 16,
   "id": "73456a2a-e676-4bb3-a03b-5a893f6de38e",
   "metadata": {},
   "outputs": [
    {
     "data": {
      "text/plain": [
       "array([[0.00646775],\n",
       "       [0.00634572],\n",
       "       [0.00597962],\n",
       "       ...,\n",
       "       [0.91506498],\n",
       "       [0.86735005],\n",
       "       [0.87680761]])"
      ]
     },
     "execution_count": 16,
     "metadata": {},
     "output_type": "execute_result"
    }
   ],
   "source": [
    "y_train_scaled"
   ]
  },
  {
   "cell_type": "code",
   "execution_count": 17,
   "id": "662365c6-fec0-4d37-8d58-d70eef0d94b4",
   "metadata": {},
   "outputs": [],
   "source": [
    "X_train_scaled = X_train_scaled.reshape(X_train_scaled.shape[0], X.shape[1], 1)"
   ]
  }
 ],
 "metadata": {
  "kernelspec": {
   "display_name": "Python 3 (ipykernel)",
   "language": "python",
   "name": "python3"
  },
  "language_info": {
   "codemirror_mode": {
    "name": "ipython",
    "version": 3
   },
   "file_extension": ".py",
   "mimetype": "text/x-python",
   "name": "python",
   "nbconvert_exporter": "python",
   "pygments_lexer": "ipython3",
   "version": "3.12.4"
  }
 },
 "nbformat": 4,
 "nbformat_minor": 5
}
