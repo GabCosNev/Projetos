{
 "cells": [
  {
   "cell_type": "markdown",
   "id": "5cb0b4ac-1b06-421c-9791-f8a66f87367e",
   "metadata": {},
   "source": [
    "## Biblioteca"
   ]
  },
  {
   "cell_type": "code",
   "execution_count": 4,
   "id": "68bed19d-f46c-4ff0-a457-baa99b83b6cd",
   "metadata": {},
   "outputs": [],
   "source": [
    "import numpy as np\n",
    "import pandas as pd\n",
    "import yfinance as yf\n",
    "from modules import sequence\n",
    "from sklearn.preprocessing import MinMaxScaler\n",
    "from tensorflow.keras.models import Sequential\n",
    "from tensorflow.keras.layers import LSTM, Dense"
   ]
  },
  {
   "cell_type": "markdown",
   "id": "6cebe792-8778-4e4a-8915-1314256fb110",
   "metadata": {},
   "source": [
    "## Dataset"
   ]
  },
  {
   "cell_type": "code",
   "execution_count": 6,
   "id": "0ed3549c-43f6-4e81-9756-4e245ae7cce4",
   "metadata": {},
   "outputs": [],
   "source": [
    "# DONWLOAD TO DATASET \n",
    "\n",
    "# symbol = \"GC=F\"\n",
    "\n",
    "# start_date = \"2005-01-01\" \n",
    "# end_date = \"2025-02-25\"   \n",
    "\n",
    "# data = yf.download(symbol, start=start_date, end=end_date)\n",
    "\n",
    "# data.to_csv(\"gold_feb_25_GC=F.csv\")"
   ]
  },
  {
   "cell_type": "code",
   "execution_count": 7,
   "id": "c130b4e7-1225-4a00-b31e-4ecc4d9a5b60",
   "metadata": {},
   "outputs": [],
   "source": [
    "data = pd.read_csv(\"gold_feb_25_GC=F.csv\", skiprows=[1, 2])\n",
    "data = data.round(2)\n",
    "data = data.iloc[:, 1]\n",
    "data = data.to_numpy()"
   ]
  },
  {
   "cell_type": "code",
   "execution_count": 8,
   "id": "817a0077-183b-471d-ba04-fecce8cbede9",
   "metadata": {},
   "outputs": [
    {
     "data": {
      "text/plain": [
       "(5032,)"
      ]
     },
     "execution_count": 8,
     "metadata": {},
     "output_type": "execute_result"
    }
   ],
   "source": [
    "data.shape"
   ]
  },
  {
   "cell_type": "markdown",
   "id": "59ff8457-40a2-493d-8b62-1818a0dfe017",
   "metadata": {},
   "source": [
    "## Building RNN LSTM"
   ]
  },
  {
   "cell_type": "code",
   "execution_count": 10,
   "id": "3e7a93bd-f055-4f5b-8e44-b0cbd3bc1f8b",
   "metadata": {},
   "outputs": [],
   "source": [
    "X, Y,  N = sequence.create_sequences(data, 10)"
   ]
  },
  {
   "cell_type": "code",
   "execution_count": 11,
   "id": "e4fa2b8c-0df0-4465-8b2b-3be542eefc8b",
   "metadata": {},
   "outputs": [
    {
     "data": {
      "text/plain": [
       "(5022, 10)"
      ]
     },
     "execution_count": 11,
     "metadata": {},
     "output_type": "execute_result"
    }
   ],
   "source": [
    "X.shape"
   ]
  },
  {
   "cell_type": "code",
   "execution_count": 13,
   "id": "296ee57b-15d4-4727-a482-1ab034cd4666",
   "metadata": {},
   "outputs": [
    {
     "data": {
      "text/plain": [
       "(5022,)"
      ]
     },
     "execution_count": 13,
     "metadata": {},
     "output_type": "execute_result"
    }
   ],
   "source": [
    "Y.shape"
   ]
  },
  {
   "cell_type": "code",
   "execution_count": null,
   "id": "85dc1631-d07a-4573-9ba2-73cae007666b",
   "metadata": {},
   "outputs": [],
   "source": []
  }
 ],
 "metadata": {
  "kernelspec": {
   "display_name": "Python 3 (ipykernel)",
   "language": "python",
   "name": "python3"
  },
  "language_info": {
   "codemirror_mode": {
    "name": "ipython",
    "version": 3
   },
   "file_extension": ".py",
   "mimetype": "text/x-python",
   "name": "python",
   "nbconvert_exporter": "python",
   "pygments_lexer": "ipython3",
   "version": "3.12.4"
  }
 },
 "nbformat": 4,
 "nbformat_minor": 5
}
