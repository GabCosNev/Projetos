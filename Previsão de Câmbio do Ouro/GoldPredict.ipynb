{
 "cells": [
  {
   "cell_type": "markdown",
   "id": "5cb0b4ac-1b06-421c-9791-f8a66f87367e",
   "metadata": {},
   "source": [
    "## Biblioteca"
   ]
  },
  {
   "cell_type": "code",
   "execution_count": 4,
   "id": "68bed19d-f46c-4ff0-a457-baa99b83b6cd",
   "metadata": {},
   "outputs": [],
   "source": [
    "import numpy as np\n",
    "import pandas as pd\n",
    "from sklearn.preprocessing import MinMaxScaler\n",
    "from tensorflow.keras.models import Sequential\n",
    "from tensorflow.keras.layers import LSTM, Dense\n",
    "import yfinance as yf\n",
    "from modules import sequence"
   ]
  },
  {
   "cell_type": "markdown",
   "id": "6cebe792-8778-4e4a-8915-1314256fb110",
   "metadata": {},
   "source": [
    "## Dataset"
   ]
  },
  {
   "cell_type": "code",
   "execution_count": 6,
   "id": "0ed3549c-43f6-4e81-9756-4e245ae7cce4",
   "metadata": {},
   "outputs": [],
   "source": [
    "# DONWLOAD TO DATASET \n",
    "\n",
    "# symbol = \"GC=F\"\n",
    "\n",
    "# start_date = \"2005-01-01\" \n",
    "# end_date = \"2025-02-25\"   \n",
    "\n",
    "# data = yf.download(symbol, start=start_date, end=end_date)\n",
    "\n",
    "# data.to_csv(\"gold_feb_25_GC=F.csv\")"
   ]
  },
  {
   "cell_type": "code",
   "execution_count": 7,
   "id": "c130b4e7-1225-4a00-b31e-4ecc4d9a5b60",
   "metadata": {},
   "outputs": [
    {
     "data": {
      "text/html": [
       "<div>\n",
       "<style scoped>\n",
       "    .dataframe tbody tr th:only-of-type {\n",
       "        vertical-align: middle;\n",
       "    }\n",
       "\n",
       "    .dataframe tbody tr th {\n",
       "        vertical-align: top;\n",
       "    }\n",
       "\n",
       "    .dataframe thead th {\n",
       "        text-align: right;\n",
       "    }\n",
       "</style>\n",
       "<table border=\"1\" class=\"dataframe\">\n",
       "  <thead>\n",
       "    <tr style=\"text-align: right;\">\n",
       "      <th></th>\n",
       "      <th>Price</th>\n",
       "      <th>Close</th>\n",
       "      <th>High</th>\n",
       "      <th>Low</th>\n",
       "      <th>Open</th>\n",
       "      <th>Volume</th>\n",
       "    </tr>\n",
       "  </thead>\n",
       "  <tbody>\n",
       "    <tr>\n",
       "      <th>0</th>\n",
       "      <td>2005-01-03</td>\n",
       "      <td>428.7</td>\n",
       "      <td>431.0</td>\n",
       "      <td>431.0</td>\n",
       "      <td>431.0</td>\n",
       "      <td>4</td>\n",
       "    </tr>\n",
       "    <tr>\n",
       "      <th>1</th>\n",
       "      <td>2005-01-04</td>\n",
       "      <td>428.5</td>\n",
       "      <td>428.5</td>\n",
       "      <td>428.5</td>\n",
       "      <td>428.5</td>\n",
       "      <td>108</td>\n",
       "    </tr>\n",
       "    <tr>\n",
       "      <th>2</th>\n",
       "      <td>2005-01-05</td>\n",
       "      <td>426.6</td>\n",
       "      <td>425.7</td>\n",
       "      <td>425.7</td>\n",
       "      <td>425.7</td>\n",
       "      <td>2</td>\n",
       "    </tr>\n",
       "    <tr>\n",
       "      <th>3</th>\n",
       "      <td>2005-01-06</td>\n",
       "      <td>421.0</td>\n",
       "      <td>421.0</td>\n",
       "      <td>421.0</td>\n",
       "      <td>421.0</td>\n",
       "      <td>1</td>\n",
       "    </tr>\n",
       "    <tr>\n",
       "      <th>4</th>\n",
       "      <td>2005-01-07</td>\n",
       "      <td>418.9</td>\n",
       "      <td>423.7</td>\n",
       "      <td>418.7</td>\n",
       "      <td>423.7</td>\n",
       "      <td>1</td>\n",
       "    </tr>\n",
       "  </tbody>\n",
       "</table>\n",
       "</div>"
      ],
      "text/plain": [
       "        Price  Close   High    Low   Open  Volume\n",
       "0  2005-01-03  428.7  431.0  431.0  431.0       4\n",
       "1  2005-01-04  428.5  428.5  428.5  428.5     108\n",
       "2  2005-01-05  426.6  425.7  425.7  425.7       2\n",
       "3  2005-01-06  421.0  421.0  421.0  421.0       1\n",
       "4  2005-01-07  418.9  423.7  418.7  423.7       1"
      ]
     },
     "execution_count": 7,
     "metadata": {},
     "output_type": "execute_result"
    }
   ],
   "source": [
    "df = pd.read_csv(\"gold_feb_25_GC=F.csv\", skiprows=[1, 2])\n",
    "df = df.round(2)\n",
    "df.head()"
   ]
  },
  {
   "cell_type": "code",
   "execution_count": 8,
   "id": "817a0077-183b-471d-ba04-fecce8cbede9",
   "metadata": {},
   "outputs": [],
   "source": [
    "X = df.iloc[:, 1].values"
   ]
  },
  {
   "cell_type": "markdown",
   "id": "59ff8457-40a2-493d-8b62-1818a0dfe017",
   "metadata": {},
   "source": [
    "## Building RNN LSTM"
   ]
  },
  {
   "cell_type": "code",
   "execution_count": 10,
   "id": "db0cdad6-1942-48cd-9f71-d9ff9db5d7e5",
   "metadata": {},
   "outputs": [
    {
     "name": "stdout",
     "output_type": "stream",
     "text": [
      "testando\n"
     ]
    }
   ],
   "source": [
    "sequence.teste()"
   ]
  },
  {
   "cell_type": "code",
   "execution_count": null,
   "id": "95374219-c975-431c-96fb-76db1756a1a1",
   "metadata": {},
   "outputs": [],
   "source": []
  }
 ],
 "metadata": {
  "kernelspec": {
   "display_name": "Python 3 (ipykernel)",
   "language": "python",
   "name": "python3"
  },
  "language_info": {
   "codemirror_mode": {
    "name": "ipython",
    "version": 3
   },
   "file_extension": ".py",
   "mimetype": "text/x-python",
   "name": "python",
   "nbconvert_exporter": "python",
   "pygments_lexer": "ipython3",
   "version": "3.12.4"
  }
 },
 "nbformat": 4,
 "nbformat_minor": 5
}
